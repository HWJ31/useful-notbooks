{
 "cells": [
  {
   "cell_type": "code",
   "execution_count": null,
   "id": "fed305e5",
   "metadata": {},
   "outputs": [],
   "source": [
    "import pandas as pd\n",
    "import numpy as np\n",
    "# Display settings\n",
    "pd.set_option('display.max_rows',40000) # Nb of rows to display\n",
    "pd.set_option('display.max_columns',1000) # Nb of columns to display\n",
    "pd.set_option('display.max_colwidth',1000) # Max number of characters in a cell before being truncated"
   ]
  },
  {
   "cell_type": "code",
   "execution_count": null,
   "id": "822038bf",
   "metadata": {},
   "outputs": [],
   "source": [
    "# Make sure your file is named like FEC_COMPANY_NAME_YEAR.FORMAT\n",
    "COMPANY_NAME = 'METRON'\n",
    "YEAR = '2021'\n",
    "FORMAT = 'txt'"
   ]
  },
  {
   "cell_type": "markdown",
   "id": "496517d0",
   "metadata": {},
   "source": [
    "Run either one of the three following cells to import the data.          \n",
    "To know if it worked, run the df.head() cell and check the result.      \n",
    "It is possible that none of them works properly. You will have to find another solution by iterating."
   ]
  },
  {
   "cell_type": "code",
   "execution_count": null,
   "id": "a43c6c5e",
   "metadata": {},
   "outputs": [],
   "source": [
    "df = pd.read_csv('FEC_' + COMPANY_NAME + '_' + YEAR + '.' + FORMAT, \n",
    "                 delimiter='\\t', encoding='utf-8',error_bad_lines=False, dtype=object)"
   ]
  },
  {
   "cell_type": "code",
   "execution_count": null,
   "id": "b97f38d7",
   "metadata": {},
   "outputs": [],
   "source": [
    "df = pd.read_csv('FEC_' + COMPANY_NAME + '_' + YEAR + '.' + FORMAT, \n",
    "                 delimiter='\\t', encoding='latin-1', error_bad_lines=False)"
   ]
  },
  {
   "cell_type": "code",
   "execution_count": null,
   "id": "994c010d",
   "metadata": {},
   "outputs": [],
   "source": [
    "df = pd.read_csv('FEC_' + COMPANY_NAME + '_' + YEAR + '.' + FORMAT, \n",
    "                 delimiter=';', encoding='windows-1252', error_bad_lines=False)"
   ]
  },
  {
   "cell_type": "code",
   "execution_count": null,
   "id": "1bf4110f",
   "metadata": {},
   "outputs": [],
   "source": [
    "df.head()"
   ]
  },
  {
   "cell_type": "code",
   "execution_count": null,
   "id": "a140c277",
   "metadata": {},
   "outputs": [],
   "source": [
    "len(df)"
   ]
  },
  {
   "cell_type": "code",
   "execution_count": null,
   "id": "49c6c090",
   "metadata": {},
   "outputs": [],
   "source": [
    "# To use if you want to replace a character by another in the entire dataframe\n",
    "# This can be useful in case of encoding issues\n",
    "character_to_replace = \"xx\"\n",
    "replace_by = \"xx\"\n",
    "#df.replace(to_replace=character_to_replace, value=replace_by, regex=True, inplace=True)"
   ]
  },
  {
   "cell_type": "markdown",
   "id": "e7cbfa22",
   "metadata": {},
   "source": [
    "df.columns should return something like this:\n",
    "\n",
    "Index(['JournalCode', 'JournalLib', 'EcritureNum', 'EcritureDate', 'CompteNum',    \n",
    "       'CompteLib', 'CompAuxNum', 'CompAuxLib', 'PieceRef', 'PieceDate',     \n",
    "       'EcritureLib', 'Debit', 'Credit', 'EcritureLet', 'DateLet ',    \n",
    "       'ValidDate', 'Montantdevise', 'Idevise'],    \n",
    "      dtype='object')"
   ]
  },
  {
   "cell_type": "code",
   "execution_count": null,
   "id": "462c69a0",
   "metadata": {},
   "outputs": [],
   "source": [
    "df.columns"
   ]
  },
  {
   "cell_type": "code",
   "execution_count": null,
   "id": "3ca9d225",
   "metadata": {},
   "outputs": [],
   "source": [
    "# To use if you need to rename some columns\n",
    "#df.rename(columns={\"JournalLib                    \": \"JournalLib\", \n",
    "#                   \"CompteNum    \": \"CompteNum\", \n",
    "#                   \"CompteLib                          \": \"CompteLib\",\n",
    "#                   \"CompAuxNum   \": \"CompAuxNum\",\n",
    "#                   \"CompAuxLib                         \": \"CompAuxLib\",\n",
    "#                   \"PieceRef    \": \"PieceRef\",\n",
    "#                   \"EcritureLib                        \": \"EcritureLib\",\n",
    "#                   \"        Debit\": \"Debit\",\n",
    "#                   \"       Credit\": \"Credit\"},\n",
    "#                   inplace=True)"
   ]
  },
  {
   "cell_type": "code",
   "execution_count": null,
   "id": "037b970f",
   "metadata": {},
   "outputs": [],
   "source": [
    "# Oldest date\n",
    "min(df[\"EcritureDate\"])"
   ]
  },
  {
   "cell_type": "code",
   "execution_count": null,
   "id": "66734458",
   "metadata": {},
   "outputs": [],
   "source": [
    "# Most recent date\n",
    "max(df[\"EcritureDate\"])"
   ]
  },
  {
   "cell_type": "markdown",
   "id": "c0cd3519",
   "metadata": {},
   "source": [
    "Make sure the dates span 12 months, and remember to update the \"FEC period\" property on the Notion card of the client with these dates."
   ]
  },
  {
   "cell_type": "code",
   "execution_count": null,
   "id": "47f9f86c",
   "metadata": {},
   "outputs": [],
   "source": [
    "df[\"JournalLib\"].value_counts()"
   ]
  },
  {
   "cell_type": "code",
   "execution_count": null,
   "id": "9ef43017",
   "metadata": {},
   "outputs": [],
   "source": [
    "df.CompteNum.value_counts()"
   ]
  },
  {
   "cell_type": "code",
   "execution_count": null,
   "id": "db6b3fd3",
   "metadata": {},
   "outputs": [],
   "source": [
    "df.CompteLib.value_counts()"
   ]
  },
  {
   "cell_type": "code",
   "execution_count": null,
   "id": "3ef43bc9",
   "metadata": {},
   "outputs": [],
   "source": [
    "# Save the dataframe to excel (helps when there are encoding problems)\n",
    "df.to_excel('FEC_' + COMPANY_NAME + '_' + YEAR + '.xlsx', index=False)"
   ]
  },
  {
   "cell_type": "markdown",
   "id": "9ee38df3-0498-4fcc-b859-322e88ca9516",
   "metadata": {},
   "source": [
    "### Above is just general codes to turn txt file into excel, the part below will output a excel will debit 408&486, for first step of FNP&CCA processing"
   ]
  },
  {
   "cell_type": "code",
   "execution_count": null,
   "id": "af427629-8080-4c2f-a9df-7e8cb3949c2c",
   "metadata": {},
   "outputs": [],
   "source": [
    "import sqldf as sql"
   ]
  },
  {
   "cell_type": "markdown",
   "id": "da778b7f-0f31-4b1b-9a50-80c6e256ef0b",
   "metadata": {},
   "source": [
    "### Modify 'A nouveaux' if in your file it's called something else"
   ]
  },
  {
   "cell_type": "code",
   "execution_count": null,
   "id": "2d7e54ef-3f45-4a05-b6de-f800ac05f0fc",
   "metadata": {},
   "outputs": [],
   "source": [
    "df = df.loc[df.JournalLib!='A nouveaux']"
   ]
  },
  {
   "cell_type": "code",
   "execution_count": null,
   "id": "11d633a1-27d3-4b8e-a95e-ed85de4a20e7",
   "metadata": {},
   "outputs": [],
   "source": [
    "query_debit_408 = \"\"\"\n",
    "        SELECT * from df\n",
    "        WHERE CompteNum LIKE '408%' and Debit!='0,00';\n",
    "\"\"\""
   ]
  },
  {
   "cell_type": "code",
   "execution_count": null,
   "id": "572c56b3-26c3-4417-b5e2-c9139162d058",
   "metadata": {},
   "outputs": [],
   "source": [
    "Debit_Compte_408 = sql.run(query_debit_408)"
   ]
  },
  {
   "cell_type": "code",
   "execution_count": null,
   "id": "5ff1419f-806f-4a80-8868-8b6592cbee0d",
   "metadata": {},
   "outputs": [],
   "source": [
    "query_debit_486 = \"\"\"\n",
    "        SELECT * from df\n",
    "        WHERE CompteNum LIKE '486%' and Debit!='0,00';\n",
    "\"\"\""
   ]
  },
  {
   "cell_type": "code",
   "execution_count": null,
   "id": "bda7e41f-435d-4b80-bf11-29a3a611d847",
   "metadata": {},
   "outputs": [],
   "source": [
    "Debit_Compte_486 = sql.run(query_debit_486)"
   ]
  },
  {
   "cell_type": "code",
   "execution_count": null,
   "id": "b21b8a3d-3828-4c81-bc17-8621e9924eba",
   "metadata": {},
   "outputs": [],
   "source": [
    "def output(x,y):\n",
    "    temp = \"\"\"\n",
    "                SELECT* FROM df\n",
    "                WHERE EcritureNum=='{0}' and EcritureDate=='{1}'\n",
    "           \"\"\".format(x,y)\n",
    "    return sql.run(temp)"
   ]
  },
  {
   "cell_type": "code",
   "execution_count": null,
   "id": "2bbaf416-7de7-4e96-bd05-c3817e8fbe69",
   "metadata": {},
   "outputs": [],
   "source": [
    "df_list = []\n",
    "for i in range(len(Debit_Compte_408)):\n",
    "    x = Debit_Compte_408.loc[i,'EcritureNum']\n",
    "    y = Debit_Compte_408.loc[i, 'EcritureDate']\n",
    "    temp = output(x,y)\n",
    "    df_list.append(temp)"
   ]
  },
  {
   "cell_type": "code",
   "execution_count": null,
   "id": "967a4a29-3207-4b3e-96fe-35c7a0c1cb6f",
   "metadata": {},
   "outputs": [],
   "source": [
    "df_output = pd.concat(df_list)"
   ]
  },
  {
   "cell_type": "code",
   "execution_count": null,
   "id": "59085099-1fd4-46fc-a9a3-823edbcfb483",
   "metadata": {},
   "outputs": [],
   "source": [
    "df_output = df_output.reset_index()"
   ]
  },
  {
   "cell_type": "code",
   "execution_count": null,
   "id": "10f08a15-33c0-46c4-84d7-0e9f8051c29c",
   "metadata": {},
   "outputs": [],
   "source": [
    "df_output"
   ]
  },
  {
   "cell_type": "code",
   "execution_count": null,
   "id": "d8b9d708-8458-4e67-8f39-eafd352a8e9c",
   "metadata": {},
   "outputs": [],
   "source": [
    "df_output.to_excel('FEC_' + COMPANY_NAME + '_FNP&CCA_1st_step_' + YEAR + '.xlsx', index=False)"
   ]
  },
  {
   "cell_type": "code",
   "execution_count": null,
   "id": "b459af3c-1cc3-4c6d-9f3c-21443c485728",
   "metadata": {},
   "outputs": [],
   "source": []
  }
 ],
 "metadata": {
  "kernelspec": {
   "display_name": "Python 3 (ipykernel)",
   "language": "python",
   "name": "python3"
  },
  "language_info": {
   "codemirror_mode": {
    "name": "ipython",
    "version": 3
   },
   "file_extension": ".py",
   "mimetype": "text/x-python",
   "name": "python",
   "nbconvert_exporter": "python",
   "pygments_lexer": "ipython3",
   "version": "3.9.7"
  }
 },
 "nbformat": 4,
 "nbformat_minor": 5
}
