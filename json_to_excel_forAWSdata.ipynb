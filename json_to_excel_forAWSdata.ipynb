{
 "cells": [
  {
   "cell_type": "code",
   "execution_count": 1,
   "id": "c64df8b7-2e37-4bb6-a34c-3e79fa5d844c",
   "metadata": {},
   "outputs": [],
   "source": [
    "import pandas as pd"
   ]
  },
  {
   "cell_type": "markdown",
   "id": "a0943492-1211-4545-a721-be78ecd2e9e4",
   "metadata": {
    "tags": []
   },
   "source": [
    "### Modify company name for your client here"
   ]
  },
  {
   "cell_type": "code",
   "execution_count": 4,
   "id": "91a27af0-df5f-4b3b-8351-5d28e345a647",
   "metadata": {},
   "outputs": [],
   "source": [
    "df = pd.read_json('Metron.json')"
   ]
  },
  {
   "cell_type": "code",
   "execution_count": 5,
   "id": "d77df85e-4bda-42e7-bdab-15df6d1d1723",
   "metadata": {},
   "outputs": [
    {
     "data": {
      "text/html": [
       "<div>\n",
       "<style scoped>\n",
       "    .dataframe tbody tr th:only-of-type {\n",
       "        vertical-align: middle;\n",
       "    }\n",
       "\n",
       "    .dataframe tbody tr th {\n",
       "        vertical-align: top;\n",
       "    }\n",
       "\n",
       "    .dataframe thead th {\n",
       "        text-align: right;\n",
       "    }\n",
       "</style>\n",
       "<table border=\"1\" class=\"dataframe\">\n",
       "  <thead>\n",
       "    <tr style=\"text-align: right;\">\n",
       "      <th></th>\n",
       "      <th>body</th>\n",
       "    </tr>\n",
       "  </thead>\n",
       "  <tbody>\n",
       "    <tr>\n",
       "      <th>0</th>\n",
       "      <td>{\"GroupDefinitions\":[{\"Type\":\"DIMENSION\",\"Key\"...</td>\n",
       "    </tr>\n",
       "    <tr>\n",
       "      <th>1</th>\n",
       "      <td>{\"GroupDefinitions\":[{\"Type\":\"DIMENSION\",\"Key\"...</td>\n",
       "    </tr>\n",
       "    <tr>\n",
       "      <th>2</th>\n",
       "      <td>{\"GroupDefinitions\":[{\"Type\":\"DIMENSION\",\"Key\"...</td>\n",
       "    </tr>\n",
       "    <tr>\n",
       "      <th>3</th>\n",
       "      <td>{\"GroupDefinitions\":[{\"Type\":\"DIMENSION\",\"Key\"...</td>\n",
       "    </tr>\n",
       "    <tr>\n",
       "      <th>4</th>\n",
       "      <td>{\"GroupDefinitions\":[{\"Type\":\"DIMENSION\",\"Key\"...</td>\n",
       "    </tr>\n",
       "  </tbody>\n",
       "</table>\n",
       "</div>"
      ],
      "text/plain": [
       "                                                body\n",
       "0  {\"GroupDefinitions\":[{\"Type\":\"DIMENSION\",\"Key\"...\n",
       "1  {\"GroupDefinitions\":[{\"Type\":\"DIMENSION\",\"Key\"...\n",
       "2  {\"GroupDefinitions\":[{\"Type\":\"DIMENSION\",\"Key\"...\n",
       "3  {\"GroupDefinitions\":[{\"Type\":\"DIMENSION\",\"Key\"...\n",
       "4  {\"GroupDefinitions\":[{\"Type\":\"DIMENSION\",\"Key\"..."
      ]
     },
     "execution_count": 5,
     "metadata": {},
     "output_type": "execute_result"
    }
   ],
   "source": [
    "df.head()"
   ]
  },
  {
   "cell_type": "code",
   "execution_count": 6,
   "id": "06d45830-af8e-4c4d-ba8c-15859339b66a",
   "metadata": {},
   "outputs": [],
   "source": [
    "dfs = [pd.read_json(df['body'][i], orient='index').transpose() for i in range(len(df))]"
   ]
  },
  {
   "cell_type": "code",
   "execution_count": 7,
   "id": "eade864a-25ec-4db8-8cb6-bf9475e2efe4",
   "metadata": {},
   "outputs": [
    {
     "data": {
      "text/plain": [
       "dict_keys(['TimePeriod', 'Total', 'Groups', 'Estimated'])"
      ]
     },
     "execution_count": 7,
     "metadata": {},
     "output_type": "execute_result"
    }
   ],
   "source": [
    "dfs[0]['ResultsByTime'][0].keys()"
   ]
  },
  {
   "cell_type": "code",
   "execution_count": 8,
   "id": "fd970faa-422f-443e-a1a5-38d3e9a9252d",
   "metadata": {},
   "outputs": [
    {
     "data": {
      "text/plain": [
       "385"
      ]
     },
     "execution_count": 8,
     "metadata": {},
     "output_type": "execute_result"
    }
   ],
   "source": [
    "len(dfs)"
   ]
  },
  {
   "cell_type": "code",
   "execution_count": 9,
   "id": "e190e44c-e8c9-4aa2-aa63-309c28ca9c23",
   "metadata": {},
   "outputs": [],
   "source": [
    "def one_day_to_df_time(i):\n",
    "    temp = dfs[i]['ResultsByTime'][0]\n",
    "    start_0 = temp['TimePeriod']['Start']\n",
    "    end_0 = temp['TimePeriod']['End']\n",
    "    groups = temp['Groups']\n",
    "    l = len(groups)\n",
    "    start = []\n",
    "    end = []\n",
    "    for k in range(l):\n",
    "        start.append(start_0)\n",
    "        end.append(end_0)\n",
    "    \n",
    "    return (start,end)"
   ]
  },
  {
   "cell_type": "code",
   "execution_count": 10,
   "id": "f464bc4d-f0f9-4e9a-81f8-2cbfaf844df9",
   "metadata": {},
   "outputs": [],
   "source": [
    "def one_day_to_df_groups(i):\n",
    "    temp = dfs[i]['ResultsByTime'][0]['Groups']\n",
    "    l = len(temp)\n",
    "    keys = []\n",
    "    metrics = []\n",
    "    for j in range(l):\n",
    "        x = temp[j]['Keys']\n",
    "        y = temp[j]['Metrics']\n",
    "        keys.append(x)\n",
    "        metrics.append(y)\n",
    "    \n",
    "    return (keys,metrics)"
   ]
  },
  {
   "cell_type": "code",
   "execution_count": 11,
   "id": "b22ab892-baa8-4fc7-bda9-17ecd1c66e29",
   "metadata": {},
   "outputs": [],
   "source": [
    "def one_day_to_df(i):\n",
    "    (start,end) = one_day_to_df_time(i)\n",
    "    (keys,metrics) = one_day_to_df_groups(i)\n",
    "    df = pd.DataFrame({'Start_date':start,'End_date':end,'Service':keys,'Amount':metrics})\n",
    "    \n",
    "    return df"
   ]
  },
  {
   "cell_type": "code",
   "execution_count": 12,
   "id": "989bdcff-788a-4b4e-9a3f-dd85bffe01d5",
   "metadata": {},
   "outputs": [],
   "source": [
    "total_days = len(dfs)"
   ]
  },
  {
   "cell_type": "code",
   "execution_count": 13,
   "id": "f16b0eb0-8773-41bc-a4a1-464ff7fa421d",
   "metadata": {},
   "outputs": [],
   "source": [
    "df_list = []\n",
    "for i in range(total_days):\n",
    "    df_list.append(one_day_to_df(i))"
   ]
  },
  {
   "cell_type": "code",
   "execution_count": 14,
   "id": "cf029f96-f78e-4574-8d24-18319ec36fe9",
   "metadata": {},
   "outputs": [],
   "source": [
    "df_final = pd.concat(df_list)"
   ]
  },
  {
   "cell_type": "code",
   "execution_count": 15,
   "id": "82cb066e-a8d5-4819-a76c-701cf1e737e2",
   "metadata": {},
   "outputs": [],
   "source": [
    "df_final = df_final.reset_index()"
   ]
  },
  {
   "cell_type": "code",
   "execution_count": 16,
   "id": "c1a7993a-be43-4faf-80a1-8000a8003f51",
   "metadata": {},
   "outputs": [],
   "source": [
    "df_final = df_final.drop(['index'],axis=1)"
   ]
  },
  {
   "cell_type": "code",
   "execution_count": 17,
   "id": "f1b63a23-73be-4e4e-a579-fb31e77e257b",
   "metadata": {},
   "outputs": [
    {
     "data": {
      "text/html": [
       "<div>\n",
       "<style scoped>\n",
       "    .dataframe tbody tr th:only-of-type {\n",
       "        vertical-align: middle;\n",
       "    }\n",
       "\n",
       "    .dataframe tbody tr th {\n",
       "        vertical-align: top;\n",
       "    }\n",
       "\n",
       "    .dataframe thead th {\n",
       "        text-align: right;\n",
       "    }\n",
       "</style>\n",
       "<table border=\"1\" class=\"dataframe\">\n",
       "  <thead>\n",
       "    <tr style=\"text-align: right;\">\n",
       "      <th></th>\n",
       "      <th>Start_date</th>\n",
       "      <th>End_date</th>\n",
       "      <th>Service</th>\n",
       "      <th>Amount</th>\n",
       "    </tr>\n",
       "  </thead>\n",
       "  <tbody>\n",
       "    <tr>\n",
       "      <th>0</th>\n",
       "      <td>2021-07-01</td>\n",
       "      <td>2021-07-02</td>\n",
       "      <td>[NoUsageType]</td>\n",
       "      <td>{'BlendedCost': {'Amount': '14897.04', 'Unit':...</td>\n",
       "    </tr>\n",
       "    <tr>\n",
       "      <th>1</th>\n",
       "      <td>2021-07-01</td>\n",
       "      <td>2021-07-02</td>\n",
       "      <td>[AP-DataTransfer-Out-Bytes]</td>\n",
       "      <td>{'BlendedCost': {'Amount': '0.0387493548', 'Un...</td>\n",
       "    </tr>\n",
       "    <tr>\n",
       "      <th>2</th>\n",
       "      <td>2021-07-01</td>\n",
       "      <td>2021-07-02</td>\n",
       "      <td>[AP-DataTransfer-Out-OBytes]</td>\n",
       "      <td>{'BlendedCost': {'Amount': '0.0010298178', 'Un...</td>\n",
       "    </tr>\n",
       "    <tr>\n",
       "      <th>3</th>\n",
       "      <td>2021-07-01</td>\n",
       "      <td>2021-07-02</td>\n",
       "      <td>[AP-Requests-HTTP-Proxy]</td>\n",
       "      <td>{'BlendedCost': {'Amount': '0.0000675', 'Unit'...</td>\n",
       "    </tr>\n",
       "    <tr>\n",
       "      <th>4</th>\n",
       "      <td>2021-07-01</td>\n",
       "      <td>2021-07-02</td>\n",
       "      <td>[AP-Requests-HTTPS-Proxy]</td>\n",
       "      <td>{'BlendedCost': {'Amount': '0.0320316', 'Unit'...</td>\n",
       "    </tr>\n",
       "  </tbody>\n",
       "</table>\n",
       "</div>"
      ],
      "text/plain": [
       "   Start_date    End_date                       Service  \\\n",
       "0  2021-07-01  2021-07-02                 [NoUsageType]   \n",
       "1  2021-07-01  2021-07-02   [AP-DataTransfer-Out-Bytes]   \n",
       "2  2021-07-01  2021-07-02  [AP-DataTransfer-Out-OBytes]   \n",
       "3  2021-07-01  2021-07-02      [AP-Requests-HTTP-Proxy]   \n",
       "4  2021-07-01  2021-07-02     [AP-Requests-HTTPS-Proxy]   \n",
       "\n",
       "                                              Amount  \n",
       "0  {'BlendedCost': {'Amount': '14897.04', 'Unit':...  \n",
       "1  {'BlendedCost': {'Amount': '0.0387493548', 'Un...  \n",
       "2  {'BlendedCost': {'Amount': '0.0010298178', 'Un...  \n",
       "3  {'BlendedCost': {'Amount': '0.0000675', 'Unit'...  \n",
       "4  {'BlendedCost': {'Amount': '0.0320316', 'Unit'...  "
      ]
     },
     "execution_count": 17,
     "metadata": {},
     "output_type": "execute_result"
    }
   ],
   "source": [
    "df_final.head()"
   ]
  },
  {
   "cell_type": "code",
   "execution_count": 18,
   "id": "7245fc8a-7b4c-406e-9fb4-7116035bec0e",
   "metadata": {},
   "outputs": [
    {
     "data": {
      "text/plain": [
       "'USD'"
      ]
     },
     "execution_count": 18,
     "metadata": {},
     "output_type": "execute_result"
    }
   ],
   "source": [
    "df_final.Amount[0]['BlendedCost']['Unit']"
   ]
  },
  {
   "cell_type": "code",
   "execution_count": 19,
   "id": "a391b028-c23a-49be-9f42-639636cd43b4",
   "metadata": {},
   "outputs": [
    {
     "data": {
      "text/plain": [
       "{'BlendedCost': {'Amount': '14897.04', 'Unit': 'USD'},\n",
       " 'UnblendedCost': {'Amount': '14897.04', 'Unit': 'USD'},\n",
       " 'UsageQuantity': {'Amount': '0', 'Unit': ''}}"
      ]
     },
     "execution_count": 19,
     "metadata": {},
     "output_type": "execute_result"
    }
   ],
   "source": [
    "df_final.Amount[0]"
   ]
  },
  {
   "cell_type": "code",
   "execution_count": 20,
   "id": "99e8fe03-0ad7-4662-82c0-664a2c89ecbe",
   "metadata": {},
   "outputs": [],
   "source": [
    "Currency = []\n",
    "BlendedCost_Amount = []\n",
    "UnblendedCost_Amount = []\n",
    "UsageQuantity = []\n",
    "    \n",
    "for i in range(len(df_final)):\n",
    "    temp = df_final.Amount[i]\n",
    "    Currency.append(temp['BlendedCost']['Unit'])\n",
    "    BlendedCost_Amount.append(temp['BlendedCost']['Amount'])\n",
    "    UnblendedCost_Amount.append(temp['UnblendedCost']['Amount'])\n",
    "    UsageQuantity.append(temp['UsageQuantity']['Amount'])\n",
    "        \n",
    "df_final['Currency']=Currency\n",
    "df_final['BlendedCost_Amount']=BlendedCost_Amount\n",
    "df_final['UnblendedCost_Amount']=UnblendedCost_Amount\n",
    "df_final['UsageQuantity']=UsageQuantity"
   ]
  },
  {
   "cell_type": "code",
   "execution_count": 21,
   "id": "c169dd77-b9a0-43c1-a99f-6b79775cc40c",
   "metadata": {},
   "outputs": [],
   "source": [
    "df_final = df_final.drop(['Amount'],axis=1)"
   ]
  },
  {
   "cell_type": "code",
   "execution_count": 22,
   "id": "d6e048b5-51c1-4dea-969d-a6d4791383fb",
   "metadata": {},
   "outputs": [
    {
     "data": {
      "text/html": [
       "<div>\n",
       "<style scoped>\n",
       "    .dataframe tbody tr th:only-of-type {\n",
       "        vertical-align: middle;\n",
       "    }\n",
       "\n",
       "    .dataframe tbody tr th {\n",
       "        vertical-align: top;\n",
       "    }\n",
       "\n",
       "    .dataframe thead th {\n",
       "        text-align: right;\n",
       "    }\n",
       "</style>\n",
       "<table border=\"1\" class=\"dataframe\">\n",
       "  <thead>\n",
       "    <tr style=\"text-align: right;\">\n",
       "      <th></th>\n",
       "      <th>Start_date</th>\n",
       "      <th>End_date</th>\n",
       "      <th>Service</th>\n",
       "      <th>Currency</th>\n",
       "      <th>BlendedCost_Amount</th>\n",
       "      <th>UnblendedCost_Amount</th>\n",
       "      <th>UsageQuantity</th>\n",
       "    </tr>\n",
       "  </thead>\n",
       "  <tbody>\n",
       "    <tr>\n",
       "      <th>0</th>\n",
       "      <td>2021-07-01</td>\n",
       "      <td>2021-07-02</td>\n",
       "      <td>[NoUsageType]</td>\n",
       "      <td>USD</td>\n",
       "      <td>14897.04</td>\n",
       "      <td>14897.04</td>\n",
       "      <td>0</td>\n",
       "    </tr>\n",
       "    <tr>\n",
       "      <th>1</th>\n",
       "      <td>2021-07-01</td>\n",
       "      <td>2021-07-02</td>\n",
       "      <td>[AP-DataTransfer-Out-Bytes]</td>\n",
       "      <td>USD</td>\n",
       "      <td>0.0387493548</td>\n",
       "      <td>0.0356494074</td>\n",
       "      <td>0.322911299</td>\n",
       "    </tr>\n",
       "    <tr>\n",
       "      <th>2</th>\n",
       "      <td>2021-07-01</td>\n",
       "      <td>2021-07-02</td>\n",
       "      <td>[AP-DataTransfer-Out-OBytes]</td>\n",
       "      <td>USD</td>\n",
       "      <td>0.0010298178</td>\n",
       "      <td>0.0009474327</td>\n",
       "      <td>0.0171636317</td>\n",
       "    </tr>\n",
       "    <tr>\n",
       "      <th>3</th>\n",
       "      <td>2021-07-01</td>\n",
       "      <td>2021-07-02</td>\n",
       "      <td>[AP-Requests-HTTP-Proxy]</td>\n",
       "      <td>USD</td>\n",
       "      <td>0.0000675</td>\n",
       "      <td>0.0000621</td>\n",
       "      <td>75</td>\n",
       "    </tr>\n",
       "    <tr>\n",
       "      <th>4</th>\n",
       "      <td>2021-07-01</td>\n",
       "      <td>2021-07-02</td>\n",
       "      <td>[AP-Requests-HTTPS-Proxy]</td>\n",
       "      <td>USD</td>\n",
       "      <td>0.0320316</td>\n",
       "      <td>0.029469072</td>\n",
       "      <td>26693</td>\n",
       "    </tr>\n",
       "    <tr>\n",
       "      <th>...</th>\n",
       "      <td>...</td>\n",
       "      <td>...</td>\n",
       "      <td>...</td>\n",
       "      <td>...</td>\n",
       "      <td>...</td>\n",
       "      <td>...</td>\n",
       "      <td>...</td>\n",
       "    </tr>\n",
       "    <tr>\n",
       "      <th>177801</th>\n",
       "      <td>2022-07-20</td>\n",
       "      <td>2022-07-21</td>\n",
       "      <td>[eu-west-1-KMS-Requests]</td>\n",
       "      <td>USD</td>\n",
       "      <td>0.149955</td>\n",
       "      <td>0.1379586</td>\n",
       "      <td>49985</td>\n",
       "    </tr>\n",
       "    <tr>\n",
       "      <th>177802</th>\n",
       "      <td>2022-07-20</td>\n",
       "      <td>2022-07-21</td>\n",
       "      <td>[eu-west-3-KMS-Keys]</td>\n",
       "      <td>USD</td>\n",
       "      <td>3.443548332</td>\n",
       "      <td>3.1680644142</td>\n",
       "      <td>3.443548332</td>\n",
       "    </tr>\n",
       "    <tr>\n",
       "      <th>177803</th>\n",
       "      <td>2022-07-20</td>\n",
       "      <td>2022-07-21</td>\n",
       "      <td>[eu-west-3-KMS-Requests]</td>\n",
       "      <td>USD</td>\n",
       "      <td>4.889427</td>\n",
       "      <td>4.49827284</td>\n",
       "      <td>1629809</td>\n",
       "    </tr>\n",
       "    <tr>\n",
       "      <th>177804</th>\n",
       "      <td>2022-07-20</td>\n",
       "      <td>2022-07-21</td>\n",
       "      <td>[sa-east-1-KMS-Keys]</td>\n",
       "      <td>USD</td>\n",
       "      <td>0.479838702</td>\n",
       "      <td>0.4414515987</td>\n",
       "      <td>0.479838702</td>\n",
       "    </tr>\n",
       "    <tr>\n",
       "      <th>177805</th>\n",
       "      <td>2022-07-20</td>\n",
       "      <td>2022-07-21</td>\n",
       "      <td>[sa-east-1-KMS-Requests]</td>\n",
       "      <td>USD</td>\n",
       "      <td>0.629625</td>\n",
       "      <td>0.579255</td>\n",
       "      <td>209875</td>\n",
       "    </tr>\n",
       "  </tbody>\n",
       "</table>\n",
       "<p>177806 rows × 7 columns</p>\n",
       "</div>"
      ],
      "text/plain": [
       "        Start_date    End_date                       Service Currency  \\\n",
       "0       2021-07-01  2021-07-02                 [NoUsageType]      USD   \n",
       "1       2021-07-01  2021-07-02   [AP-DataTransfer-Out-Bytes]      USD   \n",
       "2       2021-07-01  2021-07-02  [AP-DataTransfer-Out-OBytes]      USD   \n",
       "3       2021-07-01  2021-07-02      [AP-Requests-HTTP-Proxy]      USD   \n",
       "4       2021-07-01  2021-07-02     [AP-Requests-HTTPS-Proxy]      USD   \n",
       "...            ...         ...                           ...      ...   \n",
       "177801  2022-07-20  2022-07-21      [eu-west-1-KMS-Requests]      USD   \n",
       "177802  2022-07-20  2022-07-21          [eu-west-3-KMS-Keys]      USD   \n",
       "177803  2022-07-20  2022-07-21      [eu-west-3-KMS-Requests]      USD   \n",
       "177804  2022-07-20  2022-07-21          [sa-east-1-KMS-Keys]      USD   \n",
       "177805  2022-07-20  2022-07-21      [sa-east-1-KMS-Requests]      USD   \n",
       "\n",
       "       BlendedCost_Amount UnblendedCost_Amount UsageQuantity  \n",
       "0                14897.04             14897.04             0  \n",
       "1            0.0387493548         0.0356494074   0.322911299  \n",
       "2            0.0010298178         0.0009474327  0.0171636317  \n",
       "3               0.0000675            0.0000621            75  \n",
       "4               0.0320316          0.029469072         26693  \n",
       "...                   ...                  ...           ...  \n",
       "177801           0.149955            0.1379586         49985  \n",
       "177802        3.443548332         3.1680644142   3.443548332  \n",
       "177803           4.889427           4.49827284       1629809  \n",
       "177804        0.479838702         0.4414515987   0.479838702  \n",
       "177805           0.629625             0.579255        209875  \n",
       "\n",
       "[177806 rows x 7 columns]"
      ]
     },
     "execution_count": 22,
     "metadata": {},
     "output_type": "execute_result"
    }
   ],
   "source": [
    "df_final"
   ]
  },
  {
   "cell_type": "markdown",
   "id": "6f04b4b3-a983-4d80-a316-fadf067ce15c",
   "metadata": {},
   "source": [
    "### Modify company name for your client here"
   ]
  },
  {
   "cell_type": "code",
   "execution_count": 23,
   "id": "04932c32-95aa-4e64-af40-aadfedab21f0",
   "metadata": {},
   "outputs": [],
   "source": [
    "df_final.to_excel('Metron_AWS_data_by_UsageType.xlsx', index=False)"
   ]
  }
 ],
 "metadata": {
  "kernelspec": {
   "display_name": "Python 3 (ipykernel)",
   "language": "python",
   "name": "python3"
  },
  "language_info": {
   "codemirror_mode": {
    "name": "ipython",
    "version": 3
   },
   "file_extension": ".py",
   "mimetype": "text/x-python",
   "name": "python",
   "nbconvert_exporter": "python",
   "pygments_lexer": "ipython3",
   "version": "3.9.7"
  }
 },
 "nbformat": 4,
 "nbformat_minor": 5
}
