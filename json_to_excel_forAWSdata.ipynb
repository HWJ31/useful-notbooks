{
 "cells": [
  {
   "cell_type": "code",
   "execution_count": null,
   "id": "c64df8b7-2e37-4bb6-a34c-3e79fa5d844c",
   "metadata": {},
   "outputs": [],
   "source": [
    "import pandas as pd"
   ]
  },
  {
   "cell_type": "markdown",
   "id": "a0943492-1211-4545-a721-be78ecd2e9e4",
   "metadata": {
    "tags": []
   },
   "source": [
    "### Modify company name for your client here"
   ]
  },
  {
   "cell_type": "code",
   "execution_count": null,
   "id": "91a27af0-df5f-4b3b-8351-5d28e345a647",
   "metadata": {},
   "outputs": [],
   "source": [
    "df = pd.read_json('Metron.json')"
   ]
  },
  {
   "cell_type": "code",
   "execution_count": null,
   "id": "d77df85e-4bda-42e7-bdab-15df6d1d1723",
   "metadata": {},
   "outputs": [],
   "source": [
    "df.head()"
   ]
  },
  {
   "cell_type": "code",
   "execution_count": null,
   "id": "06d45830-af8e-4c4d-ba8c-15859339b66a",
   "metadata": {},
   "outputs": [],
   "source": [
    "dfs = [pd.read_json(df['body'][i], orient='index').transpose() for i in range(len(df))]"
   ]
  },
  {
   "cell_type": "code",
   "execution_count": null,
   "id": "eade864a-25ec-4db8-8cb6-bf9475e2efe4",
   "metadata": {},
   "outputs": [],
   "source": [
    "dfs[0]['ResultsByTime'][0].keys()"
   ]
  },
  {
   "cell_type": "code",
   "execution_count": null,
   "id": "fd970faa-422f-443e-a1a5-38d3e9a9252d",
   "metadata": {},
   "outputs": [],
   "source": [
    "len(dfs)"
   ]
  },
  {
   "cell_type": "code",
   "execution_count": null,
   "id": "e190e44c-e8c9-4aa2-aa63-309c28ca9c23",
   "metadata": {},
   "outputs": [],
   "source": [
    "def one_day_to_df_time(i):\n",
    "    temp = dfs[i]['ResultsByTime'][0]\n",
    "    start_0 = temp['TimePeriod']['Start']\n",
    "    end_0 = temp['TimePeriod']['End']\n",
    "    groups = temp['Groups']\n",
    "    l = len(groups)\n",
    "    start = []\n",
    "    end = []\n",
    "    for k in range(l):\n",
    "        start.append(start_0)\n",
    "        end.append(end_0)\n",
    "    \n",
    "    return (start,end)"
   ]
  },
  {
   "cell_type": "code",
   "execution_count": null,
   "id": "f464bc4d-f0f9-4e9a-81f8-2cbfaf844df9",
   "metadata": {},
   "outputs": [],
   "source": [
    "def one_day_to_df_groups(i):\n",
    "    temp = dfs[i]['ResultsByTime'][0]['Groups']\n",
    "    l = len(temp)\n",
    "    keys = []\n",
    "    metrics = []\n",
    "    for j in range(l):\n",
    "        x = temp[j]['Keys']\n",
    "        y = temp[j]['Metrics']\n",
    "        keys.append(x)\n",
    "        metrics.append(y)\n",
    "    \n",
    "    return (keys,metrics)"
   ]
  },
  {
   "cell_type": "code",
   "execution_count": null,
   "id": "b22ab892-baa8-4fc7-bda9-17ecd1c66e29",
   "metadata": {},
   "outputs": [],
   "source": [
    "def one_day_to_df(i):\n",
    "    (start,end) = one_day_to_df_time(i)\n",
    "    (keys,metrics) = one_day_to_df_groups(i)\n",
    "    df = pd.DataFrame({'Start_date':start,'End_date':end,'Service':keys,'Amount':metrics})\n",
    "    \n",
    "    return df"
   ]
  },
  {
   "cell_type": "code",
   "execution_count": null,
   "id": "989bdcff-788a-4b4e-9a3f-dd85bffe01d5",
   "metadata": {},
   "outputs": [],
   "source": [
    "total_days = len(dfs)"
   ]
  },
  {
   "cell_type": "code",
   "execution_count": null,
   "id": "f16b0eb0-8773-41bc-a4a1-464ff7fa421d",
   "metadata": {},
   "outputs": [],
   "source": [
    "df_list = []\n",
    "for i in range(total_days):\n",
    "    df_list.append(one_day_to_df(i))"
   ]
  },
  {
   "cell_type": "code",
   "execution_count": null,
   "id": "cf029f96-f78e-4574-8d24-18319ec36fe9",
   "metadata": {},
   "outputs": [],
   "source": [
    "df_final = pd.concat(df_list)"
   ]
  },
  {
   "cell_type": "code",
   "execution_count": null,
   "id": "82cb066e-a8d5-4819-a76c-701cf1e737e2",
   "metadata": {},
   "outputs": [],
   "source": [
    "df_final = df_final.reset_index()"
   ]
  },
  {
   "cell_type": "code",
   "execution_count": null,
   "id": "c1a7993a-be43-4faf-80a1-8000a8003f51",
   "metadata": {},
   "outputs": [],
   "source": [
    "df_final = df_final.drop(['index'],axis=1)"
   ]
  },
  {
   "cell_type": "code",
   "execution_count": null,
   "id": "f1b63a23-73be-4e4e-a579-fb31e77e257b",
   "metadata": {},
   "outputs": [],
   "source": [
    "df_final.head()"
   ]
  },
  {
   "cell_type": "code",
   "execution_count": null,
   "id": "7245fc8a-7b4c-406e-9fb4-7116035bec0e",
   "metadata": {},
   "outputs": [],
   "source": [
    "df_final.Amount[0]['BlendedCost']['Unit']"
   ]
  },
  {
   "cell_type": "code",
   "execution_count": null,
   "id": "a391b028-c23a-49be-9f42-639636cd43b4",
   "metadata": {},
   "outputs": [],
   "source": [
    "df_final.Amount[0]"
   ]
  },
  {
   "cell_type": "code",
   "execution_count": null,
   "id": "99e8fe03-0ad7-4662-82c0-664a2c89ecbe",
   "metadata": {},
   "outputs": [],
   "source": [
    "Currency = []\n",
    "BlendedCost_Amount = []\n",
    "UnblendedCost_Amount = []\n",
    "UsageQuantity = []\n",
    "    \n",
    "for i in range(len(df_final)):\n",
    "    temp = df_final.Amount[i]\n",
    "    Currency.append(temp['BlendedCost']['Unit'])\n",
    "    BlendedCost_Amount.append(temp['BlendedCost']['Amount'])\n",
    "    UnblendedCost_Amount.append(temp['UnblendedCost']['Amount'])\n",
    "    UsageQuantity.append(temp['UsageQuantity']['Amount'])\n",
    "        \n",
    "df_final['Currency']=Currency\n",
    "df_final['BlendedCost_Amount']=BlendedCost_Amount\n",
    "df_final['UnblendedCost_Amount']=UnblendedCost_Amount\n",
    "df_final['UsageQuantity']=UsageQuantity"
   ]
  },
  {
   "cell_type": "code",
   "execution_count": null,
   "id": "c169dd77-b9a0-43c1-a99f-6b79775cc40c",
   "metadata": {},
   "outputs": [],
   "source": [
    "df_final = df_final.drop(['Amount'],axis=1)"
   ]
  },
  {
   "cell_type": "code",
   "execution_count": null,
   "id": "d6e048b5-51c1-4dea-969d-a6d4791383fb",
   "metadata": {},
   "outputs": [],
   "source": [
    "df_final"
   ]
  },
  {
   "cell_type": "markdown",
   "id": "6f04b4b3-a983-4d80-a316-fadf067ce15c",
   "metadata": {},
   "source": [
    "### Modify company name for your client here"
   ]
  },
  {
   "cell_type": "code",
   "execution_count": null,
   "id": "04932c32-95aa-4e64-af40-aadfedab21f0",
   "metadata": {},
   "outputs": [],
   "source": [
    "df_final.to_excel('Metron_AWS_data_by_UsageType.xlsx', index=False)"
   ]
  }
 ],
 "metadata": {
  "kernelspec": {
   "display_name": "Python 3 (ipykernel)",
   "language": "python",
   "name": "python3"
  },
  "language_info": {
   "codemirror_mode": {
    "name": "ipython",
    "version": 3
   },
   "file_extension": ".py",
   "mimetype": "text/x-python",
   "name": "python",
   "nbconvert_exporter": "python",
   "pygments_lexer": "ipython3",
   "version": "3.9.7"
  }
 },
 "nbformat": 4,
 "nbformat_minor": 5
}
